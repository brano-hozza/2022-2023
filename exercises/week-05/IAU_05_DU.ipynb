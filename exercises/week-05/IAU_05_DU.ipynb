{
 "cells": [
  {
   "cell_type": "markdown",
   "metadata": {},
   "source": [
    "# Štatistické testovanie hypotéz\n",
    "\n",
    "URL https://github.com/FIIT-IAU/\n",
    "\n",
    "**Chceme overiť, či má počet valcov motora vplyv na spotrebu.**"
   ]
  },
  {
   "cell_type": "code",
   "execution_count": 4,
   "metadata": {},
   "outputs": [],
   "source": [
    "import pandas as pd\n",
    "import matplotlib\n",
    "import seaborn as sns\n",
    "import statsmodels.api as sm\n",
    "import statsmodels.stats.api as sms\n",
    "import scipy.stats as stats\n",
    "from sklearn import preprocessing"
   ]
  },
  {
   "cell_type": "code",
   "execution_count": 5,
   "metadata": {},
   "outputs": [
    {
     "data": {
      "text/html": [
       "<div>\n",
       "<style scoped>\n",
       "    .dataframe tbody tr th:only-of-type {\n",
       "        vertical-align: middle;\n",
       "    }\n",
       "\n",
       "    .dataframe tbody tr th {\n",
       "        vertical-align: top;\n",
       "    }\n",
       "\n",
       "    .dataframe thead th {\n",
       "        text-align: right;\n",
       "    }\n",
       "</style>\n",
       "<table border=\"1\" class=\"dataframe\">\n",
       "  <thead>\n",
       "    <tr style=\"text-align: right;\">\n",
       "      <th></th>\n",
       "      <th>mpg</th>\n",
       "      <th>cylinders</th>\n",
       "      <th>displacement</th>\n",
       "      <th>horsepower</th>\n",
       "      <th>weight</th>\n",
       "      <th>acceleration</th>\n",
       "      <th>model_year</th>\n",
       "      <th>origin</th>\n",
       "      <th>name</th>\n",
       "    </tr>\n",
       "  </thead>\n",
       "  <tbody>\n",
       "    <tr>\n",
       "      <th>0</th>\n",
       "      <td>18.0</td>\n",
       "      <td>8</td>\n",
       "      <td>307.0</td>\n",
       "      <td>130.0</td>\n",
       "      <td>3504.0</td>\n",
       "      <td>12.0</td>\n",
       "      <td>70</td>\n",
       "      <td>1</td>\n",
       "      <td>chevrolet chevelle malibu</td>\n",
       "    </tr>\n",
       "    <tr>\n",
       "      <th>1</th>\n",
       "      <td>15.0</td>\n",
       "      <td>8</td>\n",
       "      <td>350.0</td>\n",
       "      <td>165.0</td>\n",
       "      <td>3693.0</td>\n",
       "      <td>11.5</td>\n",
       "      <td>70</td>\n",
       "      <td>1</td>\n",
       "      <td>buick skylark 320</td>\n",
       "    </tr>\n",
       "    <tr>\n",
       "      <th>2</th>\n",
       "      <td>18.0</td>\n",
       "      <td>8</td>\n",
       "      <td>318.0</td>\n",
       "      <td>150.0</td>\n",
       "      <td>3436.0</td>\n",
       "      <td>11.0</td>\n",
       "      <td>70</td>\n",
       "      <td>1</td>\n",
       "      <td>plymouth satellite</td>\n",
       "    </tr>\n",
       "    <tr>\n",
       "      <th>3</th>\n",
       "      <td>16.0</td>\n",
       "      <td>8</td>\n",
       "      <td>304.0</td>\n",
       "      <td>150.0</td>\n",
       "      <td>3433.0</td>\n",
       "      <td>12.0</td>\n",
       "      <td>70</td>\n",
       "      <td>1</td>\n",
       "      <td>amc rebel sst</td>\n",
       "    </tr>\n",
       "    <tr>\n",
       "      <th>4</th>\n",
       "      <td>17.0</td>\n",
       "      <td>8</td>\n",
       "      <td>302.0</td>\n",
       "      <td>140.0</td>\n",
       "      <td>3449.0</td>\n",
       "      <td>10.5</td>\n",
       "      <td>70</td>\n",
       "      <td>1</td>\n",
       "      <td>ford torino</td>\n",
       "    </tr>\n",
       "  </tbody>\n",
       "</table>\n",
       "</div>"
      ],
      "text/plain": [
       "    mpg  cylinders  displacement  horsepower  weight  acceleration  \\\n",
       "0  18.0          8         307.0       130.0  3504.0          12.0   \n",
       "1  15.0          8         350.0       165.0  3693.0          11.5   \n",
       "2  18.0          8         318.0       150.0  3436.0          11.0   \n",
       "3  16.0          8         304.0       150.0  3433.0          12.0   \n",
       "4  17.0          8         302.0       140.0  3449.0          10.5   \n",
       "\n",
       "   model_year  origin                       name  \n",
       "0          70       1  chevrolet chevelle malibu  \n",
       "1          70       1          buick skylark 320  \n",
       "2          70       1         plymouth satellite  \n",
       "3          70       1              amc rebel sst  \n",
       "4          70       1                ford torino  "
      ]
     },
     "execution_count": 5,
     "metadata": {},
     "output_type": "execute_result"
    }
   ],
   "source": [
    "cars = pd.read_csv('data/auto-mpg.data', \n",
    "                   delim_whitespace=True, \n",
    "                   names = ['mpg', 'cylinders', 'displacement','horsepower',\n",
    "                            'weight', 'acceleration', 'model_year', 'origin', 'name'],\n",
    "                   na_values='?')\n",
    "cars.head()"
   ]
  },
  {
   "cell_type": "markdown",
   "metadata": {},
   "source": [
    "## DÚ"
   ]
  },
  {
   "cell_type": "markdown",
   "metadata": {},
   "source": [
    "**a. Overte, či je rozdiel medzi spotrebou 4 a 6-valcových motorov signifikantný.**\n",
    "\n",
    "b. Overte, či je rozdiel medzi spotrebou 4 a 5-valcových motorov signifikantný.\n",
    "\n",
    "c. Ešte lepší postup je použiť test, ktorý umožňuje otestovať viacero skupín naraz. Zovšeobecnením t-testu pre viacero skupín je **ANOVA (Analysis of variance)**."
   ]
  },
  {
   "cell_type": "markdown",
   "metadata": {},
   "source": [
    "Invisible note\n",
    "\n",
    "Treba si dať pozor pri opakovanom párovom testovaní. S každým ďalším testom rastie pravdepodobnosť 1. rádu. Treba v takom prípade použiť korekciu pre opätovné testovanie, napr. *Bonferroniho korekciu*, kedy sa $p$-hodnota porovnáva voči hodnote $\\alpha / m$, kde $\\alpha$ je prípustná hodnota pravdepodobnosti chyby 1. rádu a $m$ je počet testovaných hypotéz (párových testov).\n",
    "//"
   ]
  },
  {
   "cell_type": "code",
   "execution_count": 6,
   "metadata": {},
   "outputs": [
    {
     "data": {
      "image/png": "[encoded data removed]",
      "text/plain": [
       "<Figure size 640x480 with 1 Axes>"
      ]
     },
     "metadata": {},
     "output_type": "display_data"
    }
   ],
   "source": [
    "sample = cars[(cars.cylinders == 4) | (cars.cylinders == 5)| (cars.cylinders == 6)]\n",
    "sns.boxplot(sample, x=\"cylinders\", y=\"mpg\")\n",
    "cyl4 = sample[sample[\"cylinders\"] == 4][\"mpg\"]\n",
    "cyl5 = sample[sample[\"cylinders\"] == 5][\"mpg\"]\n",
    "cyl6 = sample[sample[\"cylinders\"] == 6][\"mpg\"]"
   ]
  },
  {
   "cell_type": "code",
   "execution_count": 7,
   "metadata": {},
   "outputs": [
    {
     "data": {
      "text/plain": [
       "<AxesSubplot: xlabel='mpg', ylabel='Count'>"
      ]
     },
     "execution_count": 7,
     "metadata": {},
     "output_type": "execute_result"
    },
    {
     "data": {
      "image/png": "[encoded data removed]",
      "text/plain": [
       "<Figure size 640x480 with 1 Axes>"
      ]
     },
     "metadata": {},
     "output_type": "display_data"
    }
   ],
   "source": [
    "sns.histplot(cyl4, color=\"b\")\n",
    "sns.histplot(cyl5, color =\"r\")\n",
    "sns.histplot(cyl6, color =\"g\")"
   ]
  },
  {
   "cell_type": "markdown",
   "metadata": {},
   "source": [
    "Musime sa zbavit outlierov"
   ]
  },
  {
   "cell_type": "code",
   "execution_count": 8,
   "metadata": {},
   "outputs": [],
   "source": [
    "def identify_outliers(a):\n",
    "    lower = a.quantile(0.25) - 1.5 * stats.iqr(a)\n",
    "    upper = a.quantile(0.75) + 1.5 * stats.iqr(a)\n",
    "    \n",
    "    return a[(a > upper) | (a < lower)]"
   ]
  },
  {
   "cell_type": "code",
   "execution_count": 9,
   "metadata": {},
   "outputs": [],
   "source": [
    "cyl4_out = identify_outliers(cyl4)\n",
    "cyl5_out = identify_outliers(cyl5)\n",
    "cyl6_out = identify_outliers(cyl6)\n",
    "\n",
    "cyl4 = cyl4.drop(cyl4_out.index)\n",
    "cyl5 = cyl5.drop(cyl5_out.index)\n",
    "cyl6 = cyl6.drop(cyl6_out.index)"
   ]
  },
  {
   "cell_type": "code",
   "execution_count": 10,
   "metadata": {},
   "outputs": [
    {
     "data": {
      "text/plain": [
       "<AxesSubplot: xlabel='mpg', ylabel='Count'>"
      ]
     },
     "execution_count": 10,
     "metadata": {},
     "output_type": "execute_result"
    },
    {
     "data": {
      "image/png": "[encoded data removed]",
      "text/plain": [
       "<Figure size 640x480 with 1 Axes>"
      ]
     },
     "metadata": {},
     "output_type": "display_data"
    }
   ],
   "source": [
    "sns.histplot(cyl4, color=\"b\")\n",
    "sns.histplot(cyl5, color =\"r\")\n",
    "sns.histplot(cyl6, color =\"g\")"
   ]
  },
  {
   "cell_type": "markdown",
   "metadata": {},
   "source": [
    "Mozeme otestovat ci su z normalneho rozdelenia"
   ]
  },
  {
   "cell_type": "code",
   "execution_count": 11,
   "metadata": {},
   "outputs": [
    {
     "name": "stdout",
     "output_type": "stream",
     "text": [
      "Cyl4 nie je z normalneho rozdelenia 0.002673\n",
      "Pocet merani cyl4 203\n"
     ]
    },
    {
     "data": {
      "text/plain": [
       "<seaborn.axisgrid.FacetGrid at 0x134b1e410>"
      ]
     },
     "execution_count": 11,
     "metadata": {},
     "output_type": "execute_result"
    },
    {
     "data": {
      "image/png": "[encoded data removed]",
      "text/plain": [
       "<Figure size 500x500 with 1 Axes>"
      ]
     },
     "metadata": {},
     "output_type": "display_data"
    }
   ],
   "source": [
    "shap4 = stats.shapiro(cyl4)\n",
    "if shap4.pvalue > 0.05:\n",
    "    print(\"Cyl4 je z normalneho rozdelenia {:.6f}\".format(shap4.pvalue))\n",
    "else:\n",
    "    print(\"Cyl4 nie je z normalneho rozdelenia {:.6f}\".format(shap4.pvalue))\n",
    "\n",
    "print(\"Pocet merani cyl4 {}\".format(cyl4.count()))\n",
    "\n",
    "sns.displot(cyl4)\n"
   ]
  },
  {
   "cell_type": "code",
   "execution_count": 12,
   "metadata": {},
   "outputs": [
    {
     "name": "stdout",
     "output_type": "stream",
     "text": [
      "Cyl5 je z normalneho rozdelenia 0.601791\n",
      "Pocet merani cyl5 3\n"
     ]
    },
    {
     "data": {
      "text/plain": [
       "<seaborn.axisgrid.FacetGrid at 0x134eebac0>"
      ]
     },
     "execution_count": 12,
     "metadata": {},
     "output_type": "execute_result"
    },
    {
     "data": {
      "image/png": "[encoded data removed]",
      "text/plain": [
       "<Figure size 500x500 with 1 Axes>"
      ]
     },
     "metadata": {},
     "output_type": "display_data"
    }
   ],
   "source": [
    "shap5 = stats.shapiro(cyl5)\n",
    "if shap5.pvalue > 0.05:\n",
    "    print(\"Cyl5 je z normalneho rozdelenia {:.6f}\".format(shap5.pvalue))\n",
    "else:\n",
    "    print(\"Cyl5 nie je z normalneho rozdelenia {:.6f}\".format(shap5.pvalue))\n",
    "    \n",
    "print(\"Pocet merani cyl5 {}\".format(cyl5.count()))\n",
    "sns.displot(cyl5)"
   ]
  },
  {
   "cell_type": "code",
   "execution_count": 13,
   "metadata": {},
   "outputs": [
    {
     "name": "stdout",
     "output_type": "stream",
     "text": [
      "Cyl6 je z normalneho rozdelenia 0.124790\n",
      "Pocet merani cyl6 79\n"
     ]
    },
    {
     "data": {
      "text/plain": [
       "<seaborn.axisgrid.FacetGrid at 0x1350d3be0>"
      ]
     },
     "execution_count": 13,
     "metadata": {},
     "output_type": "execute_result"
    },
    {
     "data": {
      "image/png": "[encoded data removed]",
      "text/plain": [
       "<Figure size 500x500 with 1 Axes>"
      ]
     },
     "metadata": {},
     "output_type": "display_data"
    }
   ],
   "source": [
    "shap6 = stats.shapiro(cyl6)\n",
    "if shap6.pvalue > 0.05:\n",
    "    print(\"Cyl6 je z normalneho rozdelenia {:.6f}\".format(shap6.pvalue))\n",
    "else:\n",
    "    print(\"Cyl6 nie je z normalneho rozdelenia {:.6f}\".format(shap6.pvalue))\n",
    "    \n",
    "print(\"Pocet merani cyl6 {}\".format(cyl6.count()))\n",
    "sns.displot(cyl6)"
   ]
  },
  {
   "cell_type": "markdown",
   "metadata": {},
   "source": [
    "### Uloha a)\n",
    "Kedze 4-cylindrove nie su z normalneho rozdelenia musime spravit Mann-Whitneyho test \n",
    "\n",
    "Pocet merani pri oboch vzorkach je viac ako 20, mozeme teda robit Mann-Whithney U test"
   ]
  },
  {
   "cell_type": "code",
   "execution_count": 14,
   "metadata": {},
   "outputs": [
    {
     "name": "stdout",
     "output_type": "stream",
     "text": [
      "Statistics=15474.000, p=0.000000\n",
      "Zamietane H0\n"
     ]
    }
   ],
   "source": [
    "stat, p = stats.mannwhitneyu(cyl4, cyl6) \n",
    "print('Statistics=%.3f, p=%.6f' % (stat, p))\n",
    "\n",
    "if p > 0.05:\n",
    "    print(\"Nezamietame H0\")\n",
    "else:\n",
    "    print(\"Zamietane H0\")"
   ]
  },
  {
   "cell_type": "markdown",
   "metadata": {},
   "source": [
    "\n",
    "Kedze zamietame H0 spotreba je vyrazne rozdielna medzi Cyl4 a Cyl6\n",
    "### Uloha b)\n",
    "Tak isto mozeme spravit test medzi Cyl4 a Cyl5\n",
    "\n",
    "Pocet merani pri oboch vzorkach nie je viac ako 20, mozeme teda robit Mann-Whithney U test ale zistime si aj silu testu"
   ]
  },
  {
   "cell_type": "code",
   "execution_count": 15,
   "metadata": {},
   "outputs": [
    {
     "name": "stdout",
     "output_type": "stream",
     "text": [
      "Statistics=363.000, p=0.571278\n",
      "Nezamietame H0\n"
     ]
    }
   ],
   "source": [
    "stat, p = stats.mannwhitneyu(cyl4, cyl5) \n",
    "print('Statistics=%.3f, p=%.6f' % (stat, p))\n",
    "\n",
    "if p > 0.05:\n",
    "    print(\"Nezamietame H0\")\n",
    "else:\n",
    "    print(\"Zamietane H0\")"
   ]
  },
  {
   "cell_type": "code",
   "execution_count": 16,
   "metadata": {},
   "outputs": [
    {
     "name": "stdout",
     "output_type": "stream",
     "text": [
      "Cohens d value: 0.326227\n"
     ]
    }
   ],
   "source": [
    "\n",
    "from numpy import var, mean\n",
    "from math import sqrt\n",
    "# calculate cohen's d for independent samples\n",
    "def cohend(d1, d2):\n",
    "    # calculate the size of samples\n",
    "    n1, n2 = len(d1), len(d2) \n",
    "    \n",
    "    # calculate the variance of the samples\n",
    "    s1, s2 = var(d1, ddof=1), var(d2, ddof=1)\n",
    "\n",
    "    # calculate the pooled standard deviation\n",
    "    s = sqrt(((n1 - 1) * s1 + (n2 - 1) * s2) / (n1 + n2 - 2)) \n",
    "    \n",
    "    # calculate the means of the samples\n",
    "    u1, u2 = mean(d1), mean(d2)\n",
    "    \n",
    "    # calculate the effect size\n",
    "    d = (u1 - u2) / s \n",
    "    return d\n",
    "\n",
    "\n",
    "cd = cohend(cyl4, cyl5)\n",
    "print('Cohens d value: %f' % cd)"
   ]
  },
  {
   "cell_type": "markdown",
   "metadata": {},
   "source": [
    "Kedze nezamietam H0 tak spotreba medzi Cyl4 a Cyl5 nie je velmi rozdielna, ale kedze cohen vysiel 0.32 tak je toto porovnanie velmi slabe, hlavne kvoli malej vzorke"
   ]
  },
  {
   "cell_type": "markdown",
   "metadata": {},
   "source": [
    "### Uloha c)\n",
    "Nemozeme pouzit ANOVA test pretoze pre cyl4 nemame normalne rozdelenie\n",
    "\n",
    "Mozeme ale pouzit Kruskal-Wallis H Test ktory je urceny pre neparametricke testy"
   ]
  },
  {
   "cell_type": "code",
   "execution_count": 17,
   "metadata": {},
   "outputs": [
    {
     "name": "stdout",
     "output_type": "stream",
     "text": [
      "Statistics=147.292, p=0.000\n",
      "Zamietame H0\n"
     ]
    }
   ],
   "source": [
    "\n",
    "stat, p = stats.kruskal(cyl4, cyl5, cyl6)\n",
    "print('Statistics=%.3f, p=%.3f' % (stat, p))\n",
    "\n",
    "if p > 0.05:\n",
    "    print('Nezamietame H0')\n",
    "else:\n",
    "    print('Zamietame H0')"
   ]
  },
  {
   "cell_type": "markdown",
   "metadata": {},
   "source": [
    "Tak ako pri rieseni b) mame problem s malym poctom vzoriek pri cyl5 preto musime spravit cohen aj medzi cyl5 a cyl6"
   ]
  },
  {
   "cell_type": "code",
   "execution_count": 18,
   "metadata": {},
   "outputs": [
    {
     "name": "stdout",
     "output_type": "stream",
     "text": [
      "Cohens d value: 3.029881\n"
     ]
    }
   ],
   "source": [
    "\n",
    "cd = cohend(cyl5, cyl6)\n",
    "print('Cohens d value: %f' % cd)"
   ]
  },
  {
   "cell_type": "markdown",
   "metadata": {},
   "source": [
    "Kedze zamietame H0 tak mozeme tvrdit ze je vyrazny rozdiel medzi tymito troma rozdeleniami, cohen medzi cyl5 a cyl6 ma vysoku hodnotu, co je dobre ale stale medzi c4 a c5 je velmi nizky"
   ]
  }
 ],
 "metadata": {
  "kernelspec": {
   "display_name": "Python 3.10.7 ('iau')",
   "language": "python",
   "name": "python3"
  },
  "language_info": {
   "codemirror_mode": {
    "name": "ipython",
    "version": 3
   },
   "file_extension": ".py",
   "mimetype": "text/x-python",
   "name": "python",
   "nbconvert_exporter": "python",
   "pygments_lexer": "ipython3",
   "version": "3.10.7"
  },
  "vscode": {
   "interpreter": {
    "hash": "585a89dd667adb44ec2acb04534ba329d27b4c5414dfdb0dd84837e5d1b09a89"
   }
  }
 },
 "nbformat": 4,
 "nbformat_minor": 2
}
