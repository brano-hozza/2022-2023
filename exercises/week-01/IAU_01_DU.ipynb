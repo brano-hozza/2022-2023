{
 "cells": [
  {
   "cell_type": "markdown",
   "metadata": {
    "colab_type": "text",
    "id": "PE4ExuwJjYZl"
   },
   "source": [
    "# Introduction to Python: DÚ"
   ]
  },
  {
   "cell_type": "code",
   "execution_count": null,
   "metadata": {
    "colab": {},
    "colab_type": "code",
    "id": "m7dnZNjx26I_"
   },
   "outputs": [],
   "source": [
    "# -*- coding: utf-8 -*-\n",
    "#\n",
    "# Licensed under the Apache License, Version 2.0 (the \"License\");\n",
    "# you may not use this file except in compliance with the License.\n",
    "# You may obtain a copy of the License at\n",
    "#\n",
    "#    http://www.apache.org/licenses/LICENSE-2.0\n",
    "#\n",
    "# Unless required by applicable law or agreed to in writing, software\n",
    "# distributed under the License is distributed on an \"AS IS\" BASIS,\n",
    "# WITHOUT WARRANTIES OR CONDITIONS OF ANY KIND, either express or\n",
    "# implied.\n",
    "# See the License for the specific language governing permissions and\n",
    "# limitations under the License.\n",
    "#"
   ]
  },
  {
   "cell_type": "markdown",
   "metadata": {
    "colab_type": "text",
    "id": "wtQeTdrV4kO_"
   },
   "source": [
    "Oficiálny python tutoriál: [https://docs.python.org/3.8/tutorial/index.html](https://docs.python.org/3.8/tutorial/index.html) \n",
    "\n",
    "URL [https://github.com/jerry-git/learn-python3](https://github.com/jerry-git/learn-python3)"
   ]
  },
  {
   "cell_type": "markdown",
   "metadata": {
    "colab_type": "text",
    "id": "NNi-uBwHfdk0"
   },
   "source": [
    "## Úloha 1"
   ]
  },
  {
   "cell_type": "markdown",
   "metadata": {
    "colab_type": "text",
    "id": "X3eHvejdfgWj"
   },
   "source": [
    "Máte zadané pole stringov."
   ]
  },
  {
   "cell_type": "code",
   "execution_count": 2,
   "metadata": {
    "colab": {},
    "colab_type": "code",
    "id": "1qj5175CfnTd"
   },
   "outputs": [],
   "source": [
    "pole_na_rozdelenie = [\"Fiit\", \"fiit\", \"megadlhystring!!!\", \"autobiografia\", \"Alica\", \"python\", \"pip\", \"env\", \"jupyter\", \"IAU\"]"
   ]
  },
  {
   "cell_type": "markdown",
   "metadata": {
    "colab_type": "text",
    "id": "RaGmXpqghnQW"
   },
   "source": [
    "Napíšte funkciu, ktorá pre zadané pole stringov vráti nové pole obsahujúce len stringy na prvočíselných indexoch. Potom túto funkciu zavolajte s vyššie deklarovaným polom ako parameter."
   ]
  },
  {
   "cell_type": "code",
   "execution_count": 6,
   "metadata": {
    "colab": {},
    "colab_type": "code",
    "id": "W8ed3W40h529"
   },
   "outputs": [
    {
     "name": "stdout",
     "output_type": "stream",
     "text": [
      "['Fiit', 'fiit', 'megadlhystring!!!', 'autobiografia', 'python', 'env']\n"
     ]
    }
   ],
   "source": [
    "# Miesto pre Váš kód\n",
    "def getOnlyOnPrimePositions(arr):\n",
    "    new_arr = []\n",
    "    for i in range(len(arr)):\n",
    "        flag = True\n",
    "        for j in range(2, i):\n",
    "            if i % j == 0:\n",
    "                flag = False\n",
    "                break\n",
    "        if flag:\n",
    "            new_arr.append(arr[i])\n",
    "\n",
    "    return new_arr\n",
    "\n",
    "print(getOnlyOnPrimePositions(pole_na_rozdelenie))"
   ]
  },
  {
   "cell_type": "markdown",
   "metadata": {
    "colab_type": "text",
    "id": "OsdZWqFsfvgk"
   },
   "source": [
    "Napíšte program, ktorý vyššie deklarované pole rozdelí do 3 nových polí, pričom v jednom poli budú stringy dĺžky menej ako 5. V druhom poli stringy dĺžky medzi 5 a 10 (vrátane) a stringy začínajúce na písmeno \"a\" alebo ľubovoľné veľké písmeno pričom je string **ľubovoľnej** dĺžky. V treťom poli všetky ostatné stringy."
   ]
  },
  {
   "cell_type": "code",
   "execution_count": 8,
   "metadata": {
    "colab": {},
    "colab_type": "code",
    "id": "19OHF7shiDI9"
   },
   "outputs": [
    {
     "name": "stdout",
     "output_type": "stream",
     "text": [
      "A:  ['Fiit', 'fiit', 'pip', 'env', 'IAU']\n",
      "B:  ['autobiografia', 'Alica', 'python', 'jupyter']\n",
      "C:  ['megadlhystring!!!']\n"
     ]
    }
   ],
   "source": [
    "# Miesto pre Váš kód\n",
    "A = []\n",
    "B = []\n",
    "C = []\n",
    "for s in pole_na_rozdelenie:\n",
    "    if( len(s) < 5):\n",
    "        A.append(s)\n",
    "        continue\n",
    "    if( len(s) <=10) or (s[0] == 'a') or 65 >= ord(s[0]) >= 90:\n",
    "        B.append(s)\n",
    "        continue\n",
    "    C.append(s)\n",
    "\n",
    "\n",
    "print(\"A: \", A)\n",
    "print(\"B: \", B)\n",
    "print(\"C: \", C)"
   ]
  },
  {
   "cell_type": "markdown",
   "metadata": {
    "colab_type": "text",
    "id": "-sZ6ISJMp1bR"
   },
   "source": [
    "## Úloha 2"
   ]
  },
  {
   "cell_type": "markdown",
   "metadata": {
    "colab_type": "text",
    "id": "MzlqAVbwp4qL"
   },
   "source": [
    "Máme zadané pole čisiel typu Interger (int)."
   ]
  },
  {
   "cell_type": "code",
   "execution_count": 13,
   "metadata": {
    "colab": {},
    "colab_type": "code",
    "id": "9dEavPgJp7b1"
   },
   "outputs": [],
   "source": [
    "#pole = [1, 4, 5, 1, 7, 5, 1, 5, 4, 2, 3, 4]\n",
    "pole = [1,2,3,4,5,5,6,6,4,4,5,5,12,12,1,1,1,1,1,2,1]\n",
    "#pole = [1,1,2,20]"
   ]
  },
  {
   "cell_type": "markdown",
   "metadata": {
    "colab_type": "text",
    "id": "Ie99LXSfqacF"
   },
   "source": [
    "Napíšte funkciu, ktorá nám povie pre pole intov, či sa dá toto pole rozdeliť do dvoch polí s rovnakým súčtom. Potom túto funckiu zavolajte na vyššie deklarované pole. Vypíšte takéto dve polia (ľubovoľné, ktoré sĺňajú podmienku rovnakého súčtu)."
   ]
  },
  {
   "cell_type": "code",
   "execution_count": 14,
   "metadata": {},
   "outputs": [
    {
     "name": "stdout",
     "output_type": "stream",
     "text": [
      "[1, 3, 5, 6, 4, 5, 12, 1, 1, 1, 1, 1] [2, 4, 5, 6, 4, 5, 12, 1, 2]\n",
      "Is splittable: True\n"
     ]
    }
   ],
   "source": [
    "# Miesto pre Váš kód\n",
    "\n",
    "def isSplittable(arr):\n",
    "    A = []\n",
    "    sum_A = 0\n",
    "    B = []\n",
    "    sum_B = 0\n",
    "    for num in arr:\n",
    "        if sum_A <= sum_B:\n",
    "            A.append(num)\n",
    "            sum_A += num\n",
    "            continue\n",
    "        B.append(num)\n",
    "        sum_B += num\n",
    "    if sum_A == sum_B:\n",
    "        print(A,B)\n",
    "        return True\n",
    "    return False\n",
    "    \n",
    "        \n",
    "print(f\"Is splittable: {isSplittable(pole)}\")"
   ]
  }
 ],
 "metadata": {
  "colab": {
   "collapsed_sections": [],
   "name": "IAU_uvod_do_pythonu.ipynb",
   "provenance": []
  },
  "kernelspec": {
   "display_name": "Python 3.10.6 64-bit",
   "language": "python",
   "name": "python3"
  },
  "language_info": {
   "codemirror_mode": {
    "name": "ipython",
    "version": 3
   },
   "file_extension": ".py",
   "mimetype": "text/x-python",
   "name": "python",
   "nbconvert_exporter": "python",
   "pygments_lexer": "ipython3",
   "version": "3.10.6"
  },
  "vscode": {
   "interpreter": {
    "hash": "aee8b7b246df8f9039afb4144a1f6fd8d2ca17a180786b69acc140d282b71a49"
   }
  }
 },
 "nbformat": 4,
 "nbformat_minor": 1
}
